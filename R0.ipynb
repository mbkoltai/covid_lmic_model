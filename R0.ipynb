{
 "cells": [
  {
   "cell_type": "code",
   "execution_count": 2,
   "metadata": {},
   "outputs": [],
   "source": [
    "import sympy\n",
    "import numpy as np\n",
    "from sympy import *"
   ]
  },
  {
   "cell_type": "markdown",
   "metadata": {},
   "source": [
    "## 2 age group SEIR model"
   ]
  },
  {
   "cell_type": "code",
   "execution_count": 5,
   "metadata": {},
   "outputs": [],
   "source": [
    "# S1=Var(\"S1\");S2=Var(\"S2\"); beta11=Var(\"beta11\"); beta12=Var(\"beta12\"); beta21=Var(\"beta21\"); beta22=Var(\"beta22\")\n",
    "# sigma1=Var(\"sigma1\"); sigma2=Var(\"sigma2\"); gamma1=Var(\"gamma1\"); gamma2=Var(\"gamma2\")\n",
    "S1,S2,beta11,beta12,beta21,beta22,sigma1,sigma2,gamma1,gamma2=symbols('S1 S2 beta11 beta12 beta21 \\\n",
    "beta22 sigma1 sigma2 gamma1 gamma2')\n"
   ]
  },
  {
   "cell_type": "code",
   "execution_count": 4,
   "metadata": {},
   "outputs": [
    {
     "data": {
      "text/latex": [
       "$\\displaystyle \\left[\\begin{matrix}\\sigma_{1} & 0 & 0 & 0\\\\- \\sigma_{1} & \\gamma_{1} & 0 & 0\\\\0 & 0 & \\sigma_{2} & 0\\\\0 & 0 & - \\sigma_{2} & \\gamma_{2}\\end{matrix}\\right]$"
      ],
      "text/plain": [
       "Matrix([\n",
       "[ sigma1,      0,       0,      0],\n",
       "[-sigma1, gamma1,       0,      0],\n",
       "[      0,      0,  sigma2,      0],\n",
       "[      0,      0, -sigma2, gamma2]])"
      ]
     },
     "execution_count": 4,
     "metadata": {},
     "output_type": "execute_result"
    }
   ],
   "source": [
    "# Matrix([[1, 2], [2, 2]]).eigenvals()\n",
    "V=Matrix([[sigma1, 0, 0, 0], [-sigma1, gamma1, 0, 0], [0, 0, sigma2, 0], [0, 0, -sigma2, gamma2]])\n",
    "V"
   ]
  },
  {
   "cell_type": "code",
   "execution_count": 34,
   "metadata": {},
   "outputs": [
    {
     "data": {
      "text/latex": [
       "$\\displaystyle \\left[\\begin{matrix}\\frac{1}{\\sigma_{1}} & 0 & 0 & 0\\\\\\frac{1}{\\gamma_{1}} & \\frac{1}{\\gamma_{1}} & 0 & 0\\\\0 & 0 & \\frac{1}{\\sigma_{2}} & 0\\\\0 & 0 & \\frac{1}{\\gamma_{2}} & \\frac{1}{\\gamma_{2}}\\end{matrix}\\right]$"
      ],
      "text/plain": [
       "Matrix([\n",
       "[1/sigma1,        0,        0,        0],\n",
       "[1/gamma1, 1/gamma1,        0,        0],\n",
       "[       0,        0, 1/sigma2,        0],\n",
       "[       0,        0, 1/gamma2, 1/gamma2]])"
      ]
     },
     "execution_count": 34,
     "metadata": {},
     "output_type": "execute_result"
    }
   ],
   "source": [
    "V.inv()"
   ]
  },
  {
   "cell_type": "code",
   "execution_count": 35,
   "metadata": {},
   "outputs": [
    {
     "data": {
      "text/latex": [
       "$\\displaystyle \\left[\\begin{matrix}0 & \\beta_{11} & 0 & \\beta_{12}\\\\0 & 0 & 0 & 0\\\\0 & \\beta_{21} & 0 & \\beta_{22}\\\\0 & 0 & 0 & 0\\end{matrix}\\right]$"
      ],
      "text/plain": [
       "Matrix([\n",
       "[0, beta11, 0, beta12],\n",
       "[0,      0, 0,      0],\n",
       "[0, beta21, 0, beta22],\n",
       "[0,      0, 0,      0]])"
      ]
     },
     "execution_count": 35,
     "metadata": {},
     "output_type": "execute_result"
    }
   ],
   "source": [
    "S1=1; S2=1\n",
    "F=Matrix([[0,beta11*S1,0,beta12*S1],[0,0,0,0],[0,beta21*S2,0,beta22*S2],[0,0,0,0]])\n",
    "F"
   ]
  },
  {
   "cell_type": "code",
   "execution_count": 36,
   "metadata": {},
   "outputs": [
    {
     "data": {
      "text/plain": [
       "array([[beta11/gamma1, beta11/gamma1, beta12/gamma2, beta12/gamma2],\n",
       "       [0, 0, 0, 0],\n",
       "       [beta21/gamma1, beta21/gamma1, beta22/gamma2, beta22/gamma2],\n",
       "       [0, 0, 0, 0]], dtype=object)"
      ]
     },
     "execution_count": 36,
     "metadata": {},
     "output_type": "execute_result"
    }
   ],
   "source": [
    "np.dot(F,V.inv())"
   ]
  },
  {
   "cell_type": "code",
   "execution_count": 37,
   "metadata": {},
   "outputs": [
    {
     "data": {
      "text/latex": [
       "$\\displaystyle \\left[\\begin{matrix}\\frac{\\beta_{11}}{\\gamma_{1}} & \\frac{\\beta_{11}}{\\gamma_{1}} & \\frac{\\beta_{12}}{\\gamma_{2}} & \\frac{\\beta_{12}}{\\gamma_{2}}\\\\0 & 0 & 0 & 0\\\\\\frac{\\beta_{21}}{\\gamma_{1}} & \\frac{\\beta_{21}}{\\gamma_{1}} & \\frac{\\beta_{22}}{\\gamma_{2}} & \\frac{\\beta_{22}}{\\gamma_{2}}\\\\0 & 0 & 0 & 0\\end{matrix}\\right]$"
      ],
      "text/plain": [
       "Matrix([\n",
       "[beta11/gamma1, beta11/gamma1, beta12/gamma2, beta12/gamma2],\n",
       "[            0,             0,             0,             0],\n",
       "[beta21/gamma1, beta21/gamma1, beta22/gamma2, beta22/gamma2],\n",
       "[            0,             0,             0,             0]])"
      ]
     },
     "execution_count": 37,
     "metadata": {},
     "output_type": "execute_result"
    }
   ],
   "source": [
    "F*V.inv()"
   ]
  },
  {
   "cell_type": "code",
   "execution_count": 38,
   "metadata": {},
   "outputs": [
    {
     "data": {
      "text/latex": [
       "$\\displaystyle \\left\\{ 0 : 2, \\  \\frac{\\beta_{11} \\gamma_{2} + \\beta_{22} \\gamma_{1}}{2 \\gamma_{1} \\gamma_{2}} - \\frac{\\sqrt{\\beta_{11}^{2} \\gamma_{2}^{2} - 2 \\beta_{11} \\beta_{22} \\gamma_{1} \\gamma_{2} + 4 \\beta_{12} \\beta_{21} \\gamma_{1} \\gamma_{2} + \\beta_{22}^{2} \\gamma_{1}^{2}}}{2 \\gamma_{1} \\gamma_{2}} : 1, \\  \\frac{\\beta_{11} \\gamma_{2} + \\beta_{22} \\gamma_{1}}{2 \\gamma_{1} \\gamma_{2}} + \\frac{\\sqrt{\\beta_{11}^{2} \\gamma_{2}^{2} - 2 \\beta_{11} \\beta_{22} \\gamma_{1} \\gamma_{2} + 4 \\beta_{12} \\beta_{21} \\gamma_{1} \\gamma_{2} + \\beta_{22}^{2} \\gamma_{1}^{2}}}{2 \\gamma_{1} \\gamma_{2}} : 1\\right\\}$"
      ],
      "text/plain": [
       "{0: 2, (beta11*gamma2 + beta22*gamma1)/(2*gamma1*gamma2) - sqrt(beta11**2*gamma2**2 - 2*beta11*beta22*gamma1*gamma2 + 4*beta12*beta21*gamma1*gamma2 + beta22**2*gamma1**2)/(2*gamma1*gamma2): 1, (beta11*gamma2 + beta22*gamma1)/(2*gamma1*gamma2) + sqrt(beta11**2*gamma2**2 - 2*beta11*beta22*gamma1*gamma2 + 4*beta12*beta21*gamma1*gamma2 + beta22**2*gamma1**2)/(2*gamma1*gamma2): 1}"
      ]
     },
     "execution_count": 38,
     "metadata": {},
     "output_type": "execute_result"
    }
   ],
   "source": [
    "simplify((F*V.inv()).eigenvals())"
   ]
  },
  {
   "cell_type": "code",
   "execution_count": 39,
   "metadata": {},
   "outputs": [
    {
     "data": {
      "text/plain": [
       "{(beta11*gamma2 + beta22*gamma1)/(2*gamma1*gamma2) - sqrt(beta11**2*gamma2**2 - 2*beta11*beta22*gamma1*gamma2 + 4*beta12*beta21*gamma1*gamma2 + beta22**2*gamma1**2)/(2*gamma1*gamma2): 1,\n",
       " (beta11*gamma2 + beta22*gamma1)/(2*gamma1*gamma2) + sqrt(beta11**2*gamma2**2 - 2*beta11*beta22*gamma1*gamma2 + 4*beta12*beta21*gamma1*gamma2 + beta22**2*gamma1**2)/(2*gamma1*gamma2): 1,\n",
       " 0: 2}"
      ]
     },
     "execution_count": 39,
     "metadata": {},
     "output_type": "execute_result"
    }
   ],
   "source": [
    "(F*V.inv()).eigenvals()"
   ]
  },
  {
   "cell_type": "markdown",
   "metadata": {},
   "source": [
    "## Stationary sol of SE-Ip-Ic-Is-R model (1 age group)"
   ]
  },
  {
   "cell_type": "code",
   "execution_count": 6,
   "metadata": {},
   "outputs": [
    {
     "data": {
      "text/plain": [
       "[(-LambertW(-R0*S0*exp((-R0*S0*d_c*d_p*d_s + d_c*d_p*f*sigma*(-E0*gamma + E0 + Is0) + d_c*d_s*sigma*(E0*gamma + Ip0) + d_p*d_s*sigma*(E0*gamma + Ic0 + Ip0))/(d_c*d_p*d_s)))/R0,)]"
      ]
     },
     "execution_count": 6,
     "metadata": {},
     "output_type": "execute_result"
    }
   ],
   "source": [
    "gamma,d_p,d_c,d_s,f,sigma=symbols('gamma d_p d_c d_s f sigma')\n",
    "F=Matrix([[-1,0,0,0], [gamma,-d_p, 0, 0], [0,d_p,-d_c,0], [(1-gamma), 0, 0, -d_s]])\n",
    "F.inv()\n",
    "C=Matrix([0,1,1,f]); b=Matrix([1,0,0,0])\n",
    "R0_comp=-sigma*(C.transpose()*F.inv()*b)\n",
    "S_sol,S0,E0,Ip0,Ic0,Is0=symbols('S_sol S0 E0 Ip0 Ic0 Is0')\n",
    "R0=symbols('R0')\n",
    "\n",
    "lhs=R0*S_sol-log(S_sol)\n",
    "rhs=-Matrix([log(S0)]) + Matrix([R0*S0]) + sigma*C.transpose()*F.inv()*Matrix([E0,Ip0,Ic0,Is0]) \n",
    "\n",
    "# symbolic solution\n",
    "sym_sol= solve(Matrix([lhs])-rhs,S_sol)\n",
    "# sym_sol=simplify(-LambertW(-R0*S0*exp((-R0*S0*d_c*d_s + d_c*f*sigma*(-E0*gamma + E0 + Is0) + \n",
    "#                                        d_s*sigma*(E0*gamma + Ic0))/(d_c*d_s)))/R0)\n",
    "sym_sol"
   ]
  },
  {
   "cell_type": "code",
   "execution_count": 7,
   "metadata": {},
   "outputs": [
    {
     "data": {
      "text/latex": [
       "$\\displaystyle - \\frac{W\\left(- R_{0} S_{0} e^{\\frac{- R_{0} S_{0} d_{c} d_{p} d_{s} + d_{c} d_{p} f \\sigma \\left(- E_{0} \\gamma + E_{0} + Is_{0}\\right) + d_{c} d_{s} \\sigma \\left(E_{0} \\gamma + Ip_{0}\\right) + d_{p} d_{s} \\sigma \\left(E_{0} \\gamma + Ic_{0} + Ip_{0}\\right)}{d_{c} d_{p} d_{s}}}\\right)}{R_{0}}$"
      ],
      "text/plain": [
       "-LambertW(-R0*S0*exp((-R0*S0*d_c*d_p*d_s + d_c*d_p*f*sigma*(-E0*gamma + E0 + Is0) + d_c*d_s*sigma*(E0*gamma + Ip0) + d_p*d_s*sigma*(E0*gamma + Ic0 + Ip0))/(d_c*d_p*d_s)))/R0"
      ]
     },
     "execution_count": 7,
     "metadata": {},
     "output_type": "execute_result"
    }
   ],
   "source": [
    "-LambertW(-R0*S0*exp((-R0*S0*d_c*d_p*d_s + d_c*d_p*f*sigma*(-E0*gamma + E0 + Is0) + d_c*d_s*sigma*(E0*gamma + Ip0) + d_p*d_s*sigma*(E0*gamma + Ic0 + Ip0))/(d_c*d_p*d_s)))/R0"
   ]
  },
  {
   "cell_type": "code",
   "execution_count": 11,
   "metadata": {},
   "outputs": [
    {
     "data": {
      "text/latex": [
       "$\\displaystyle - \\frac{W\\left(- R_{0} S_{0} e^{- \\frac{E_{0} f \\gamma \\sigma}{d_{s}} + \\frac{E_{0} f \\sigma}{d_{s}} + \\frac{E_{0} \\gamma \\sigma}{d_{p}} + \\frac{E_{0} \\gamma \\sigma}{d_{c}} - R_{0} S_{0}}\\right)}{R_{0}}$"
      ],
      "text/plain": [
       "-LambertW(-R0*S0*exp(-E0*f*gamma*sigma/d_s + E0*f*sigma/d_s + E0*gamma*sigma/d_p + E0*gamma*sigma/d_c - R0*S0))/R0"
      ]
     },
     "execution_count": 11,
     "metadata": {},
     "output_type": "execute_result"
    }
   ],
   "source": [
    "# if only S0, E0 > 0 at t=0\n",
    "simplify(-LambertW(-R0*S0*exp((-R0*S0*d_c*d_p*d_s + d_c*d_p*f*sigma*(-E0*gamma + E0 + 0) + \\\n",
    "          d_c*d_s*sigma*(E0*gamma + 0) + d_p*d_s*sigma*(E0*gamma + 0 + 0))/(d_c*d_p*d_s)))/R0)"
   ]
  },
  {
   "cell_type": "code",
   "execution_count": 12,
   "metadata": {},
   "outputs": [
    {
     "data": {
      "text/latex": [
       "$\\displaystyle \\left[\\begin{matrix}- \\sigma \\left(\\frac{f \\left(\\gamma - 1\\right)}{d_{s}} - \\frac{\\gamma}{d_{p}} - \\frac{\\gamma}{d_{c}}\\right)\\end{matrix}\\right]$"
      ],
      "text/plain": [
       "Matrix([[-sigma*(f*(gamma - 1)/d_s - gamma/d_p - gamma/d_c)]])"
      ]
     },
     "execution_count": 12,
     "metadata": {},
     "output_type": "execute_result"
    }
   ],
   "source": [
    "R0_comp"
   ]
  },
  {
   "cell_type": "code",
   "execution_count": null,
   "metadata": {},
   "outputs": [],
   "source": []
  },
  {
   "cell_type": "code",
   "execution_count": 202,
   "metadata": {},
   "outputs": [
    {
     "data": {
      "text/latex": [
       "$\\displaystyle 0.602169951931478$"
      ],
      "text/plain": [
       "0.602169951931478"
      ]
     },
     "execution_count": 202,
     "metadata": {},
     "output_type": "execute_result"
    }
   ],
   "source": [
    "# numerical values\n",
    "f=0.5;d_c=1;d_s=1;gamma=0.7\n",
    "F=Matrix([[-1, 0, 0], [gamma,-d_c,0], [(1-gamma), 0, -d_s]]); C=Matrix([0,1,f]); b=Matrix([1,0,0])\n",
    "Ntot=1;E0=0;Ic0=1e-5;Is0=0;S0=Ntot-(E0+Ic0+Is0)\n",
    "sigmaval=1.5; R0val=-sigmaval*(C.transpose()*F.inv()*b)\n",
    "R0val\n",
    "-LambertW(-R0val[0]*S0*exp((-R0val[0]*S0*d_c*d_s + d_c*f*sigmaval*(-E0*gamma + E0 + Is0) # \n",
    " + d_s*sigmaval*(E0*gamma + Ic0))/(d_c*d_s)))/R0val[0]\n"
   ]
  },
  {
   "cell_type": "markdown",
   "metadata": {},
   "source": [
    "## deriving R0 from next generation matrix"
   ]
  },
  {
   "cell_type": "code",
   "execution_count": 215,
   "metadata": {},
   "outputs": [
    {
     "data": {
      "text/latex": [
       "$\\displaystyle \\left[\\begin{matrix}\\frac{f \\sigma \\left(1 - \\gamma\\right)}{d_{s}} + \\frac{\\gamma \\sigma}{d_{c}} & \\frac{\\sigma}{d_{c}} & \\frac{f \\sigma}{d_{s}}\\\\0 & 0 & 0\\\\0 & 0 & 0\\end{matrix}\\right]$"
      ],
      "text/plain": [
       "Matrix([\n",
       "[f*sigma*(1 - gamma)/d_s + gamma*sigma/d_c, sigma/d_c, f*sigma/d_s],\n",
       "[                                        0,         0,           0],\n",
       "[                                        0,         0,           0]])"
      ]
     },
     "execution_count": 215,
     "metadata": {},
     "output_type": "execute_result"
    }
   ],
   "source": [
    "V=-F\n",
    "F_ngm=Matrix([[0, sigma, sigma*f], [0,0,0], [0, 0, 0]])\n",
    "NGM=F_ngm*V.inv()\n",
    "NGM"
   ]
  },
  {
   "cell_type": "code",
   "execution_count": 217,
   "metadata": {},
   "outputs": [
    {
     "data": {
      "text/plain": [
       "{f*sigma*(1 - gamma)/d_s + gamma*sigma/d_c: 1, 0: 2}"
      ]
     },
     "execution_count": 217,
     "metadata": {},
     "output_type": "execute_result"
    }
   ],
   "source": [
    "NGM.eigenvals()"
   ]
  },
  {
   "cell_type": "code",
   "execution_count": 219,
   "metadata": {},
   "outputs": [
    {
     "data": {
      "text/latex": [
       "$\\displaystyle \\frac{f \\sigma \\left(1 - \\gamma\\right)}{d_{s}} + \\frac{\\gamma \\sigma}{d_{c}}$"
      ],
      "text/plain": [
       "f*sigma*(1 - gamma)/d_s + gamma*sigma/d_c"
      ]
     },
     "execution_count": 219,
     "metadata": {},
     "output_type": "execute_result"
    }
   ],
   "source": [
    "# R0\n",
    "f*sigma*(1 - gamma)/d_s + gamma*sigma/d_c"
   ]
  },
  {
   "cell_type": "code",
   "execution_count": null,
   "metadata": {},
   "outputs": [],
   "source": []
  },
  {
   "cell_type": "markdown",
   "metadata": {},
   "source": [
    "## SE-Ip-Ic-Is-R + 2 age groups"
   ]
  },
  {
   "cell_type": "code",
   "execution_count": 221,
   "metadata": {},
   "outputs": [
    {
     "data": {
      "text/latex": [
       "$\\displaystyle \\left[\\begin{matrix}\\frac{S_{1} c_{11} u_{1} \\left(- d_{c} d_{p} f_{1} \\left(y_{1} - 1\\right) + d_{c} d_{s} y_{1} + d_{p} d_{s} y_{1}\\right)}{d_{c} d_{p} d_{s}} & \\frac{S_{1} c_{11} u_{1} \\left(d_{c} + d_{p}\\right)}{d_{c} d_{p}} & \\frac{S_{1} c_{11} u_{1}}{d_{c}} & \\frac{S_{1} c_{11} f_{1} u_{1}}{d_{s}} & \\frac{S_{1} c_{12} u_{1} \\left(- d_{c} d_{p} f_{2} \\left(y_{2} - 1\\right) + d_{c} d_{s} y_{2} + d_{p} d_{s} y_{2}\\right)}{d_{c} d_{p} d_{s}} & \\frac{S_{1} c_{12} u_{1} \\left(d_{c} + d_{p}\\right)}{d_{c} d_{p}} & \\frac{S_{1} c_{12} u_{1}}{d_{c}} & \\frac{S_{1} c_{12} f_{2} u_{1}}{d_{s}}\\\\0 & 0 & 0 & 0 & 0 & 0 & 0 & 0\\\\0 & 0 & 0 & 0 & 0 & 0 & 0 & 0\\\\0 & 0 & 0 & 0 & 0 & 0 & 0 & 0\\\\\\frac{S_{2} c_{12} u_{2} \\left(- d_{c} d_{p} f_{1} \\left(y_{1} - 1\\right) + d_{c} d_{s} y_{1} + d_{p} d_{s} y_{1}\\right)}{d_{c} d_{p} d_{s}} & \\frac{S_{2} c_{12} u_{2} \\left(d_{c} + d_{p}\\right)}{d_{c} d_{p}} & \\frac{S_{2} c_{12} u_{2}}{d_{c}} & \\frac{S_{2} c_{12} f_{1} u_{2}}{d_{s}} & \\frac{S_{2} c_{22} u_{2} \\left(- d_{c} d_{p} f_{2} \\left(y_{2} - 1\\right) + d_{c} d_{s} y_{2} + d_{p} d_{s} y_{2}\\right)}{d_{c} d_{p} d_{s}} & \\frac{S_{2} c_{22} u_{2} \\left(d_{c} + d_{p}\\right)}{d_{c} d_{p}} & \\frac{S_{2} c_{22} u_{2}}{d_{c}} & \\frac{S_{2} c_{22} f_{2} u_{2}}{d_{s}}\\\\0 & 0 & 0 & 0 & 0 & 0 & 0 & 0\\\\0 & 0 & 0 & 0 & 0 & 0 & 0 & 0\\\\0 & 0 & 0 & 0 & 0 & 0 & 0 & 0\\end{matrix}\\right]$"
      ],
      "text/plain": [
       "Matrix([\n",
       "[S1*c11*u1*(-d_c*d_p*f1*(y1 - 1) + d_c*d_s*y1 + d_p*d_s*y1)/(d_c*d_p*d_s), S1*c11*u1*(d_c + d_p)/(d_c*d_p), S1*c11*u1/d_c, S1*c11*f1*u1/d_s, S1*c12*u1*(-d_c*d_p*f2*(y2 - 1) + d_c*d_s*y2 + d_p*d_s*y2)/(d_c*d_p*d_s), S1*c12*u1*(d_c + d_p)/(d_c*d_p), S1*c12*u1/d_c, S1*c12*f2*u1/d_s],\n",
       "[                                                                       0,                               0,             0,                0,                                                                        0,                               0,             0,                0],\n",
       "[                                                                       0,                               0,             0,                0,                                                                        0,                               0,             0,                0],\n",
       "[                                                                       0,                               0,             0,                0,                                                                        0,                               0,             0,                0],\n",
       "[S2*c12*u2*(-d_c*d_p*f1*(y1 - 1) + d_c*d_s*y1 + d_p*d_s*y1)/(d_c*d_p*d_s), S2*c12*u2*(d_c + d_p)/(d_c*d_p), S2*c12*u2/d_c, S2*c12*f1*u2/d_s, S2*c22*u2*(-d_c*d_p*f2*(y2 - 1) + d_c*d_s*y2 + d_p*d_s*y2)/(d_c*d_p*d_s), S2*c22*u2*(d_c + d_p)/(d_c*d_p), S2*c22*u2/d_c, S2*c22*f2*u2/d_s],\n",
       "[                                                                       0,                               0,             0,                0,                                                                        0,                               0,             0,                0],\n",
       "[                                                                       0,                               0,             0,                0,                                                                        0,                               0,             0,                0],\n",
       "[                                                                       0,                               0,             0,                0,                                                                        0,                               0,             0,                0]])"
      ]
     },
     "execution_count": 221,
     "metadata": {},
     "output_type": "execute_result"
    }
   ],
   "source": [
    "# get V from kinetic matrix\n",
    "E1,E2,S1,S2,Ip1,Ip2,Is1,Is2,Ic1,Ic2,d_e,d_s,d_p,d_c,u1,u2,y1,y2=symbols('E1 E2 S1 S2 Ip1 Ip2 Is1 Is2 Ic1 Ic2 d_e \\\n",
    "d_s d_p d_c u1 u2 y1 y2')\n",
    "\n",
    "# kinet matrix without R\n",
    "n_age=2; n_infect_vartype=4; ind_infect_vars=[2,3,4,5, 7,8,9,10]; infect_vars=[E1,Ip1,Ic1,Is1,E2,Ip2,Ic2,Is2]\n",
    "K_m_1=Matrix([[-d_e,0,0,0],[y1*d_e,-d_p,0,0],[0,d_p,-d_c,0],[(1-y1)*d_e,0,0,-d_s]])\n",
    "np.c_[K_m_1,zeros(4,4)]\n",
    "Matrix([[K_m_1,zeros(4,4)]])\n",
    "K_m_2=Matrix([[-d_e,0,0,0],[y2*d_e,-d_p,0,0],[0,d_p,-d_c,0],[(1-y2)*d_e,0,0,-d_s]])\n",
    "S_row=zeros(1,n_age*n_infect_vartype+1)\n",
    "K_matrix=Matrix([[zeros(10,1),Matrix([[S_row],[K_m_1,zeros(n_infect_vartype,n_infect_vartype+1)],[S_row],\\\n",
    "                  [zeros(n_infect_vartype,n_infect_vartype+1),K_m_2]])]])\n",
    "# V: flows for infect vars other than new infections\n",
    "V=-K_matrix[[x-1 for x in ind_infect_vars],[x-1 for x in ind_infect_vars]]\n",
    "\n",
    "# contact matrix\n",
    "c11,c12,c22,f1,f2=symbols('c11 c12 c22 f1 f2')\n",
    "C_m=Matrix([[c11,c12],[c12,c22]])\n",
    "I_sum_vect=Matrix([[Ip1+Ic1+f1*Is1],[Ip2+Ic2+f2*Is2]])\n",
    "C_m*I_sum_vect\n",
    "susc_vect=Matrix([[u1],[u2]])\n",
    "lambda_vect=diagonalize_vector(susc_vect)*C_m*I_sum_vect\n",
    "infect_stretch_vect=Matrix([[1,0],zeros(n_infect_vartype-1,n_age),[0,1],zeros(n_infect_vartype-1,n_age)])\n",
    "# Matrix(np.tile(Matrix([[1,0],zeros(n_infect_vartype-1,n_age)]),(2,1)))\n",
    "f_vect=infect_stretch_vect*diagonalize_vector(Matrix([[S1],[S2]]))*lambda_vect\n",
    "F=f_vect.jacobian(infect_vars)\n",
    "NGM=simplify(F*V.inv())\n",
    "NGM"
   ]
  },
  {
   "cell_type": "code",
   "execution_count": null,
   "metadata": {},
   "outputs": [],
   "source": []
  },
  {
   "cell_type": "code",
   "execution_count": null,
   "metadata": {},
   "outputs": [],
   "source": []
  },
  {
   "cell_type": "code",
   "execution_count": 227,
   "metadata": {},
   "outputs": [
    {
     "data": {
      "text/latex": [
       "$\\displaystyle \\frac{- S_{1} c_{11} d_{c} d_{p} f_{1} u_{1} y_{1} + S_{1} c_{11} d_{c} d_{p} f_{1} u_{1} + S_{1} c_{11} d_{c} d_{s} u_{1} y_{1} + S_{1} c_{11} d_{p} d_{s} u_{1} y_{1} - S_{2} c_{22} d_{c} d_{p} f_{2} u_{2} y_{2} + S_{2} c_{22} d_{c} d_{p} f_{2} u_{2} + S_{2} c_{22} d_{c} d_{s} u_{2} y_{2} + S_{2} c_{22} d_{p} d_{s} u_{2} y_{2} + \\sqrt{S_{1}^{2} c_{11}^{2} d_{c}^{2} d_{p}^{2} f_{1}^{2} u_{1}^{2} y_{1}^{2} - 2 S_{1}^{2} c_{11}^{2} d_{c}^{2} d_{p}^{2} f_{1}^{2} u_{1}^{2} y_{1} + S_{1}^{2} c_{11}^{2} d_{c}^{2} d_{p}^{2} f_{1}^{2} u_{1}^{2} - 2 S_{1}^{2} c_{11}^{2} d_{c}^{2} d_{p} d_{s} f_{1} u_{1}^{2} y_{1}^{2} + 2 S_{1}^{2} c_{11}^{2} d_{c}^{2} d_{p} d_{s} f_{1} u_{1}^{2} y_{1} + S_{1}^{2} c_{11}^{2} d_{c}^{2} d_{s}^{2} u_{1}^{2} y_{1}^{2} - 2 S_{1}^{2} c_{11}^{2} d_{c} d_{p}^{2} d_{s} f_{1} u_{1}^{2} y_{1}^{2} + 2 S_{1}^{2} c_{11}^{2} d_{c} d_{p}^{2} d_{s} f_{1} u_{1}^{2} y_{1} + 2 S_{1}^{2} c_{11}^{2} d_{c} d_{p} d_{s}^{2} u_{1}^{2} y_{1}^{2} + S_{1}^{2} c_{11}^{2} d_{p}^{2} d_{s}^{2} u_{1}^{2} y_{1}^{2} - 2 S_{1} S_{2} c_{11} c_{22} d_{c}^{2} d_{p}^{2} f_{1} f_{2} u_{1} u_{2} y_{1} y_{2} + 2 S_{1} S_{2} c_{11} c_{22} d_{c}^{2} d_{p}^{2} f_{1} f_{2} u_{1} u_{2} y_{1} + 2 S_{1} S_{2} c_{11} c_{22} d_{c}^{2} d_{p}^{2} f_{1} f_{2} u_{1} u_{2} y_{2} - 2 S_{1} S_{2} c_{11} c_{22} d_{c}^{2} d_{p}^{2} f_{1} f_{2} u_{1} u_{2} + 2 S_{1} S_{2} c_{11} c_{22} d_{c}^{2} d_{p} d_{s} f_{1} u_{1} u_{2} y_{1} y_{2} - 2 S_{1} S_{2} c_{11} c_{22} d_{c}^{2} d_{p} d_{s} f_{1} u_{1} u_{2} y_{2} + 2 S_{1} S_{2} c_{11} c_{22} d_{c}^{2} d_{p} d_{s} f_{2} u_{1} u_{2} y_{1} y_{2} - 2 S_{1} S_{2} c_{11} c_{22} d_{c}^{2} d_{p} d_{s} f_{2} u_{1} u_{2} y_{1} - 2 S_{1} S_{2} c_{11} c_{22} d_{c}^{2} d_{s}^{2} u_{1} u_{2} y_{1} y_{2} + 2 S_{1} S_{2} c_{11} c_{22} d_{c} d_{p}^{2} d_{s} f_{1} u_{1} u_{2} y_{1} y_{2} - 2 S_{1} S_{2} c_{11} c_{22} d_{c} d_{p}^{2} d_{s} f_{1} u_{1} u_{2} y_{2} + 2 S_{1} S_{2} c_{11} c_{22} d_{c} d_{p}^{2} d_{s} f_{2} u_{1} u_{2} y_{1} y_{2} - 2 S_{1} S_{2} c_{11} c_{22} d_{c} d_{p}^{2} d_{s} f_{2} u_{1} u_{2} y_{1} - 4 S_{1} S_{2} c_{11} c_{22} d_{c} d_{p} d_{s}^{2} u_{1} u_{2} y_{1} y_{2} - 2 S_{1} S_{2} c_{11} c_{22} d_{p}^{2} d_{s}^{2} u_{1} u_{2} y_{1} y_{2} + 4 S_{1} S_{2} c_{12}^{2} d_{c}^{2} d_{p}^{2} f_{1} f_{2} u_{1} u_{2} y_{1} y_{2} - 4 S_{1} S_{2} c_{12}^{2} d_{c}^{2} d_{p}^{2} f_{1} f_{2} u_{1} u_{2} y_{1} - 4 S_{1} S_{2} c_{12}^{2} d_{c}^{2} d_{p}^{2} f_{1} f_{2} u_{1} u_{2} y_{2} + 4 S_{1} S_{2} c_{12}^{2} d_{c}^{2} d_{p}^{2} f_{1} f_{2} u_{1} u_{2} - 4 S_{1} S_{2} c_{12}^{2} d_{c}^{2} d_{p} d_{s} f_{1} u_{1} u_{2} y_{1} y_{2} + 4 S_{1} S_{2} c_{12}^{2} d_{c}^{2} d_{p} d_{s} f_{1} u_{1} u_{2} y_{2} - 4 S_{1} S_{2} c_{12}^{2} d_{c}^{2} d_{p} d_{s} f_{2} u_{1} u_{2} y_{1} y_{2} + 4 S_{1} S_{2} c_{12}^{2} d_{c}^{2} d_{p} d_{s} f_{2} u_{1} u_{2} y_{1} + 4 S_{1} S_{2} c_{12}^{2} d_{c}^{2} d_{s}^{2} u_{1} u_{2} y_{1} y_{2} - 4 S_{1} S_{2} c_{12}^{2} d_{c} d_{p}^{2} d_{s} f_{1} u_{1} u_{2} y_{1} y_{2} + 4 S_{1} S_{2} c_{12}^{2} d_{c} d_{p}^{2} d_{s} f_{1} u_{1} u_{2} y_{2} - 4 S_{1} S_{2} c_{12}^{2} d_{c} d_{p}^{2} d_{s} f_{2} u_{1} u_{2} y_{1} y_{2} + 4 S_{1} S_{2} c_{12}^{2} d_{c} d_{p}^{2} d_{s} f_{2} u_{1} u_{2} y_{1} + 8 S_{1} S_{2} c_{12}^{2} d_{c} d_{p} d_{s}^{2} u_{1} u_{2} y_{1} y_{2} + 4 S_{1} S_{2} c_{12}^{2} d_{p}^{2} d_{s}^{2} u_{1} u_{2} y_{1} y_{2} + S_{2}^{2} c_{22}^{2} d_{c}^{2} d_{p}^{2} f_{2}^{2} u_{2}^{2} y_{2}^{2} - 2 S_{2}^{2} c_{22}^{2} d_{c}^{2} d_{p}^{2} f_{2}^{2} u_{2}^{2} y_{2} + S_{2}^{2} c_{22}^{2} d_{c}^{2} d_{p}^{2} f_{2}^{2} u_{2}^{2} - 2 S_{2}^{2} c_{22}^{2} d_{c}^{2} d_{p} d_{s} f_{2} u_{2}^{2} y_{2}^{2} + 2 S_{2}^{2} c_{22}^{2} d_{c}^{2} d_{p} d_{s} f_{2} u_{2}^{2} y_{2} + S_{2}^{2} c_{22}^{2} d_{c}^{2} d_{s}^{2} u_{2}^{2} y_{2}^{2} - 2 S_{2}^{2} c_{22}^{2} d_{c} d_{p}^{2} d_{s} f_{2} u_{2}^{2} y_{2}^{2} + 2 S_{2}^{2} c_{22}^{2} d_{c} d_{p}^{2} d_{s} f_{2} u_{2}^{2} y_{2} + 2 S_{2}^{2} c_{22}^{2} d_{c} d_{p} d_{s}^{2} u_{2}^{2} y_{2}^{2} + S_{2}^{2} c_{22}^{2} d_{p}^{2} d_{s}^{2} u_{2}^{2} y_{2}^{2}}}{2 d_{c} d_{p} d_{s}}$"
      ],
      "text/plain": [
       "(-S1*c11*d_c*d_p*f1*u1*y1 + S1*c11*d_c*d_p*f1*u1 + S1*c11*d_c*d_s*u1*y1 + S1*c11*d_p*d_s*u1*y1 - S2*c22*d_c*d_p*f2*u2*y2 + S2*c22*d_c*d_p*f2*u2 + S2*c22*d_c*d_s*u2*y2 + S2*c22*d_p*d_s*u2*y2 + sqrt(S1**2*c11**2*d_c**2*d_p**2*f1**2*u1**2*y1**2 - 2*S1**2*c11**2*d_c**2*d_p**2*f1**2*u1**2*y1 + S1**2*c11**2*d_c**2*d_p**2*f1**2*u1**2 - 2*S1**2*c11**2*d_c**2*d_p*d_s*f1*u1**2*y1**2 + 2*S1**2*c11**2*d_c**2*d_p*d_s*f1*u1**2*y1 + S1**2*c11**2*d_c**2*d_s**2*u1**2*y1**2 - 2*S1**2*c11**2*d_c*d_p**2*d_s*f1*u1**2*y1**2 + 2*S1**2*c11**2*d_c*d_p**2*d_s*f1*u1**2*y1 + 2*S1**2*c11**2*d_c*d_p*d_s**2*u1**2*y1**2 + S1**2*c11**2*d_p**2*d_s**2*u1**2*y1**2 - 2*S1*S2*c11*c22*d_c**2*d_p**2*f1*f2*u1*u2*y1*y2 + 2*S1*S2*c11*c22*d_c**2*d_p**2*f1*f2*u1*u2*y1 + 2*S1*S2*c11*c22*d_c**2*d_p**2*f1*f2*u1*u2*y2 - 2*S1*S2*c11*c22*d_c**2*d_p**2*f1*f2*u1*u2 + 2*S1*S2*c11*c22*d_c**2*d_p*d_s*f1*u1*u2*y1*y2 - 2*S1*S2*c11*c22*d_c**2*d_p*d_s*f1*u1*u2*y2 + 2*S1*S2*c11*c22*d_c**2*d_p*d_s*f2*u1*u2*y1*y2 - 2*S1*S2*c11*c22*d_c**2*d_p*d_s*f2*u1*u2*y1 - 2*S1*S2*c11*c22*d_c**2*d_s**2*u1*u2*y1*y2 + 2*S1*S2*c11*c22*d_c*d_p**2*d_s*f1*u1*u2*y1*y2 - 2*S1*S2*c11*c22*d_c*d_p**2*d_s*f1*u1*u2*y2 + 2*S1*S2*c11*c22*d_c*d_p**2*d_s*f2*u1*u2*y1*y2 - 2*S1*S2*c11*c22*d_c*d_p**2*d_s*f2*u1*u2*y1 - 4*S1*S2*c11*c22*d_c*d_p*d_s**2*u1*u2*y1*y2 - 2*S1*S2*c11*c22*d_p**2*d_s**2*u1*u2*y1*y2 + 4*S1*S2*c12**2*d_c**2*d_p**2*f1*f2*u1*u2*y1*y2 - 4*S1*S2*c12**2*d_c**2*d_p**2*f1*f2*u1*u2*y1 - 4*S1*S2*c12**2*d_c**2*d_p**2*f1*f2*u1*u2*y2 + 4*S1*S2*c12**2*d_c**2*d_p**2*f1*f2*u1*u2 - 4*S1*S2*c12**2*d_c**2*d_p*d_s*f1*u1*u2*y1*y2 + 4*S1*S2*c12**2*d_c**2*d_p*d_s*f1*u1*u2*y2 - 4*S1*S2*c12**2*d_c**2*d_p*d_s*f2*u1*u2*y1*y2 + 4*S1*S2*c12**2*d_c**2*d_p*d_s*f2*u1*u2*y1 + 4*S1*S2*c12**2*d_c**2*d_s**2*u1*u2*y1*y2 - 4*S1*S2*c12**2*d_c*d_p**2*d_s*f1*u1*u2*y1*y2 + 4*S1*S2*c12**2*d_c*d_p**2*d_s*f1*u1*u2*y2 - 4*S1*S2*c12**2*d_c*d_p**2*d_s*f2*u1*u2*y1*y2 + 4*S1*S2*c12**2*d_c*d_p**2*d_s*f2*u1*u2*y1 + 8*S1*S2*c12**2*d_c*d_p*d_s**2*u1*u2*y1*y2 + 4*S1*S2*c12**2*d_p**2*d_s**2*u1*u2*y1*y2 + S2**2*c22**2*d_c**2*d_p**2*f2**2*u2**2*y2**2 - 2*S2**2*c22**2*d_c**2*d_p**2*f2**2*u2**2*y2 + S2**2*c22**2*d_c**2*d_p**2*f2**2*u2**2 - 2*S2**2*c22**2*d_c**2*d_p*d_s*f2*u2**2*y2**2 + 2*S2**2*c22**2*d_c**2*d_p*d_s*f2*u2**2*y2 + S2**2*c22**2*d_c**2*d_s**2*u2**2*y2**2 - 2*S2**2*c22**2*d_c*d_p**2*d_s*f2*u2**2*y2**2 + 2*S2**2*c22**2*d_c*d_p**2*d_s*f2*u2**2*y2 + 2*S2**2*c22**2*d_c*d_p*d_s**2*u2**2*y2**2 + S2**2*c22**2*d_p**2*d_s**2*u2**2*y2**2))/(2*d_c*d_p*d_s)"
      ]
     },
     "execution_count": 227,
     "metadata": {},
     "output_type": "execute_result"
    }
   ],
   "source": [
    "simplify(-(S1*c11*d_c*d_p*f1*u1*y1 - S1*c11*d_c*d_p*f1*u1 - S1*c11*d_c*d_s*u1*y1 - S1*c11*d_p*d_s*u1*y1 +\\\n",
    "           S2*c22*d_c*d_p*f2*u2*y2 - S2*c22*d_c*d_p*f2*u2 - S2*c22*d_c*d_s*u2*y2 - \\\n",
    "           S2*c22*d_p*d_s*u2*y2)/(2*d_c*d_p*d_s) + sqrt(S1**2*c11**2*d_c**2*d_p**2*f1**2*u1**2*y1**2 - \n",
    "           2*S1**2*c11**2*d_c**2*d_p**2*f1**2*u1**2*y1 + S1**2*c11**2*d_c**2*d_p**2*f1**2*u1**2 - 2*S1**2*c11**2*d_c**2*d_p*d_s*f1*u1**2*y1**2 + 2*S1**2*c11**2*d_c**2*d_p*d_s*f1*u1**2*y1 + S1**2*c11**2*d_c**2*d_s**2*u1**2*y1**2 - 2*S1**2*c11**2*d_c*d_p**2*d_s*f1*u1**2*y1**2 + 2*S1**2*c11**2*d_c*d_p**2*d_s*f1*u1**2*y1 + 2*S1**2*c11**2*d_c*d_p*d_s**2*u1**2*y1**2 + S1**2*c11**2*d_p**2*d_s**2*u1**2*y1**2 - 2*S1*S2*c11*c22*d_c**2*d_p**2*f1*f2*u1*u2*y1*y2 + 2*S1*S2*c11*c22*d_c**2*d_p**2*f1*f2*u1*u2*y1 + 2*S1*S2*c11*c22*d_c**2*d_p**2*f1*f2*u1*u2*y2 - 2*S1*S2*c11*c22*d_c**2*d_p**2*f1*f2*u1*u2 + 2*S1*S2*c11*c22*d_c**2*d_p*d_s*f1*u1*u2*y1*y2 - 2*S1*S2*c11*c22*d_c**2*d_p*d_s*f1*u1*u2*y2 + 2*S1*S2*c11*c22*d_c**2*d_p*d_s*f2*u1*u2*y1*y2 - 2*S1*S2*c11*c22*d_c**2*d_p*d_s*f2*u1*u2*y1 - 2*S1*S2*c11*c22*d_c**2*d_s**2*u1*u2*y1*y2 + 2*S1*S2*c11*c22*d_c*d_p**2*d_s*f1*u1*u2*y1*y2 - 2*S1*S2*c11*c22*d_c*d_p**2*d_s*f1*u1*u2*y2 + 2*S1*S2*c11*c22*d_c*d_p**2*d_s*f2*u1*u2*y1*y2 - 2*S1*S2*c11*c22*d_c*d_p**2*d_s*f2*u1*u2*y1 - 4*S1*S2*c11*c22*d_c*d_p*d_s**2*u1*u2*y1*y2 - 2*S1*S2*c11*c22*d_p**2*d_s**2*u1*u2*y1*y2 + 4*S1*S2*c12**2*d_c**2*d_p**2*f1*f2*u1*u2*y1*y2 - 4*S1*S2*c12**2*d_c**2*d_p**2*f1*f2*u1*u2*y1 - 4*S1*S2*c12**2*d_c**2*d_p**2*f1*f2*u1*u2*y2 + 4*S1*S2*c12**2*d_c**2*d_p**2*f1*f2*u1*u2 - 4*S1*S2*c12**2*d_c**2*d_p*d_s*f1*u1*u2*y1*y2 + 4*S1*S2*c12**2*d_c**2*d_p*d_s*f1*u1*u2*y2 - 4*S1*S2*c12**2*d_c**2*d_p*d_s*f2*u1*u2*y1*y2 + 4*S1*S2*c12**2*d_c**2*d_p*d_s*f2*u1*u2*y1 + 4*S1*S2*c12**2*d_c**2*d_s**2*u1*u2*y1*y2 - 4*S1*S2*c12**2*d_c*d_p**2*d_s*f1*u1*u2*y1*y2 + 4*S1*S2*c12**2*d_c*d_p**2*d_s*f1*u1*u2*y2 - 4*S1*S2*c12**2*d_c*d_p**2*d_s*f2*u1*u2*y1*y2 + 4*S1*S2*c12**2*d_c*d_p**2*d_s*f2*u1*u2*y1 + 8*S1*S2*c12**2*d_c*d_p*d_s**2*u1*u2*y1*y2 + 4*S1*S2*c12**2*d_p**2*d_s**2*u1*u2*y1*y2 + S2**2*c22**2*d_c**2*d_p**2*f2**2*u2**2*y2**2 - 2*S2**2*c22**2*d_c**2*d_p**2*f2**2*u2**2*y2 + S2**2*c22**2*d_c**2*d_p**2*f2**2*u2**2 - 2*S2**2*c22**2*d_c**2*d_p*d_s*f2*u2**2*y2**2 + 2*S2**2*c22**2*d_c**2*d_p*d_s*f2*u2**2*y2 + S2**2*c22**2*d_c**2*d_s**2*u2**2*y2**2 - 2*S2**2*c22**2*d_c*d_p**2*d_s*f2*u2**2*y2**2 + 2*S2**2*c22**2*d_c*d_p**2*d_s*f2*u2**2*y2 + 2*S2**2*c22**2*d_c*d_p*d_s**2*u2**2*y2**2 + S2**2*c22**2*d_p**2*d_s**2*u2**2*y2**2)/(2*d_c*d_p*d_s))"
   ]
  },
  {
   "cell_type": "code",
   "execution_count": 306,
   "metadata": {},
   "outputs": [
    {
     "data": {
      "text/latex": [
       "$\\displaystyle \\left[\\begin{matrix}\\frac{- Ic_{1 0} d_{p} d_{s} \\left(c_{11} c_{22} - c_{12}^{2}\\right) - Ip_{1 0} d_{s} \\left(d_{c} + d_{p}\\right) \\left(c_{11} c_{22} - c_{12}^{2}\\right) - Is_{1 0} d_{c} d_{p} f_{1} \\left(c_{11} c_{22} - c_{12}^{2}\\right) + d_{c} d_{p} d_{s} \\left(c_{12} \\left(\\log{\\left(S_{2 0} \\right)} - \\log{\\left(S_{2 sol} \\right)}\\right) - c_{22} \\left(\\log{\\left(S_{1 0} \\right)} - \\log{\\left(S_{1 sol} \\right)}\\right)\\right) + \\left(c_{11} c_{22} - c_{12}^{2}\\right) \\left(- E_{1 0} - S_{1 0} + S_{1 sol}\\right) \\left(- d_{c} d_{p} f_{1} \\left(y_{1} - 1\\right) + d_{c} d_{s} y_{1} + d_{p} d_{s} y_{1}\\right)}{d_{c} d_{p} d_{s} \\left(c_{11} c_{22} - c_{12}^{2}\\right)}\\\\\\frac{- Ic_{2 0} d_{p} d_{s} \\left(c_{11} c_{22} - c_{12}^{2}\\right) - Ip_{2 0} d_{s} \\left(d_{c} + d_{p}\\right) \\left(c_{11} c_{22} - c_{12}^{2}\\right) - Is_{2 0} d_{c} d_{p} f_{2} \\left(c_{11} c_{22} - c_{12}^{2}\\right) + d_{c} d_{p} d_{s} \\left(- c_{11} \\left(\\log{\\left(S_{2 0} \\right)} - \\log{\\left(S_{2 sol} \\right)}\\right) + c_{12} \\left(\\log{\\left(S_{1 0} \\right)} - \\log{\\left(S_{1 sol} \\right)}\\right)\\right) + \\left(c_{11} c_{22} - c_{12}^{2}\\right) \\left(- E_{2 0} - S_{2 0} + S_{2 sol}\\right) \\left(- d_{c} d_{p} f_{2} \\left(y_{2} - 1\\right) + d_{c} d_{s} y_{2} + d_{p} d_{s} y_{2}\\right)}{d_{c} d_{p} d_{s} \\left(c_{11} c_{22} - c_{12}^{2}\\right)}\\end{matrix}\\right]$"
      ],
      "text/plain": [
       "Matrix([\n",
       "[ (-Ic1_0*d_p*d_s*(c11*c22 - c12**2) - Ip1_0*d_s*(d_c + d_p)*(c11*c22 - c12**2) - Is1_0*d_c*d_p*f1*(c11*c22 - c12**2) + d_c*d_p*d_s*(c12*(log(S2_0) - log(S2_sol)) - c22*(log(S1_0) - log(S1_sol))) + (c11*c22 - c12**2)*(-E1_0 - S1_0 + S1_sol)*(-d_c*d_p*f1*(y1 - 1) + d_c*d_s*y1 + d_p*d_s*y1))/(d_c*d_p*d_s*(c11*c22 - c12**2))],\n",
       "[(-Ic2_0*d_p*d_s*(c11*c22 - c12**2) - Ip2_0*d_s*(d_c + d_p)*(c11*c22 - c12**2) - Is2_0*d_c*d_p*f2*(c11*c22 - c12**2) + d_c*d_p*d_s*(-c11*(log(S2_0) - log(S2_sol)) + c12*(log(S1_0) - log(S1_sol))) + (c11*c22 - c12**2)*(-E2_0 - S2_0 + S2_sol)*(-d_c*d_p*f2*(y2 - 1) + d_c*d_s*y2 + d_p*d_s*y2))/(d_c*d_p*d_s*(c11*c22 - c12**2))]])"
      ]
     },
     "execution_count": 306,
     "metadata": {},
     "output_type": "execute_result"
    }
   ],
   "source": [
    "a=Matrix([[0,1,1,f1,0,0,0,0],[0,0,0,0,0,1,1,f2]])\n",
    "K_red=K_matrix[[x-1 for x in ind_infect_vars],[x-1 for x in ind_infect_vars]]\n",
    "b=Matrix([[1,0],zeros(3,2),[0,1],zeros(3,2)])\n",
    "# init conds\n",
    "S1_0,S2_0,E1_0,Ip1_0,Ic1_0,Is1_0,E2_0,Ip2_0,Ic2_0,Is2_0=symbols('S1_0 S2_0 E1_0 Ip1_0 Ic1_0 Is1_0 E2_0 Ip2_0 Ic2_0 Is2_0')\n",
    "S1_sol,S2_sol=symbols('S1_sol S2_sol')\n",
    "X0=Matrix([E1_0,Ip1_0,Ic1_0,Is1_0,E2_0,Ip2_0,Ic2_0,Is2_0])\n",
    "S0=Matrix([S1_0,S2_0]); S_sol=Matrix([S1_sol,S2_sol])\n",
    "# Matrix([Matrix([[0,1,1,f1]]) zeros(1,n_infect_vartype)])\n",
    "# BlockMatrix([Matrix([0,1,1,f1]), Matrix([zeros(1,4)])])\n",
    "LHS=a*K_red.inv()*X0\n",
    "RHS=C_m.inv()*(Matrix([log(S1_0),log(S2_0)]) - Matrix([log(S1_sol),log(S2_sol)]))-a*K_red.inv()*b*(S0-S_sol)\n",
    "# solve(LHS-RHS,S_sol)\n",
    "simplify(LHS-RHS)"
   ]
  },
  {
   "cell_type": "code",
   "execution_count": 326,
   "metadata": {},
   "outputs": [],
   "source": [
    "# lumping all params together\n",
    "delta1,delta2,C_inv,alpha11,alpha12,alpha21,alpha22=symbols('delta1 delta2 C_inv alpha11 alpha12 alpha21 alpha22')\n",
    "alpha_m=Matrix([[alpha11,alpha12],[alpha21,alpha22]])\n",
    "eq_simpl=Matrix([delta1,delta1])-C_m.inv()*Matrix([log(S1_sol),log(S2_sol)])-Matrix([[alpha11,alpha12],[alpha21,alpha22]])*S_sol\n",
    "# solve(eq_simpl,S1_sol)\n",
    "# solve(eq_simpl,S1_sol,S2_sol)\n",
    "eq_simpl"
   ]
  },
  {
   "cell_type": "code",
   "execution_count": 324,
   "metadata": {},
   "outputs": [
    {
     "data": {
      "text/latex": [
       "$\\displaystyle - \\frac{c_{12} W\\left(- \\frac{\\alpha_{21} \\left(c_{11} c_{22} - c_{12}^{2}\\right) e^{\\frac{S_{2 sol} \\alpha_{22} c_{11} c_{22} - S_{2 sol} \\alpha_{22} c_{12}^{2} - c_{11} c_{22} \\delta_{1} + c_{11} \\log{\\left(S_{2 sol} \\right)} + c_{12}^{2} \\delta_{1}}{c_{12}}}}{c_{12}}\\right)}{\\alpha_{21} \\left(c_{11} c_{22} - c_{12}^{2}\\right)}$"
      ],
      "text/plain": [
       "-c12*LambertW(-alpha21*(c11*c22 - c12**2)*exp((S2_sol*alpha22*c11*c22 - S2_sol*alpha22*c12**2 - c11*c22*delta1 + c11*log(S2_sol) + c12**2*delta1)/c12)/c12)/(alpha21*(c11*c22 - c12**2))"
      ]
     },
     "execution_count": 324,
     "metadata": {},
     "output_type": "execute_result"
    }
   ],
   "source": [
    "-c12*LambertW(-alpha21*(c11*c22 - c12**2)*exp((S2_sol*alpha22*c11*c22 - S2_sol*alpha22*c12**2 - c11*c22*delta1 + c11*log(S2_sol) + c12**2*delta1)/c12)/c12)/(alpha21*(c11*c22 - c12**2))"
   ]
  }
 ],
 "metadata": {
  "kernelspec": {
   "display_name": "Python 3",
   "language": "python",
   "name": "python3"
  },
  "language_info": {
   "codemirror_mode": {
    "name": "ipython",
    "version": 3
   },
   "file_extension": ".py",
   "mimetype": "text/x-python",
   "name": "python",
   "nbconvert_exporter": "python",
   "pygments_lexer": "ipython3",
   "version": "3.7.6"
  }
 },
 "nbformat": 4,
 "nbformat_minor": 4
}
